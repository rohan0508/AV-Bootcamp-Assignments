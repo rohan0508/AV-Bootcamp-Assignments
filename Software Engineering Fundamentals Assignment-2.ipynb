{
 "cells": [
  {
   "cell_type": "markdown",
   "metadata": {},
   "source": [
    "---\n",
    "---\n",
    "\n",
    "<center><h2> Assignment: Python Standard Libraries </h2></center>\n",
    "\n",
    "\n",
    "---\n",
    "---"
   ]
  },
  {
   "cell_type": "markdown",
   "metadata": {},
   "source": [
    "***Use the `itertools` library to return all the possible combinations of following 3 elements, `x`, `y` & `z`***\n",
    "\n",
    "\n",
    "----"
   ]
  },
  {
   "cell_type": "code",
   "execution_count": 1,
   "metadata": {},
   "outputs": [],
   "source": [
    "# importing libraries\n",
    "import itertools\n",
    "import os"
   ]
  },
  {
   "cell_type": "code",
   "execution_count": 2,
   "metadata": {},
   "outputs": [
    {
     "data": {
      "text/plain": [
       "[(4, 6), (4, 2), (6, 2)]"
      ]
     },
     "execution_count": 2,
     "metadata": {},
     "output_type": "execute_result"
    }
   ],
   "source": [
    "x = 4\n",
    "y = 6\n",
    "z = 2\n",
    "\n",
    "# make combinations using itertools\n",
    "list(itertools.combinations([x, y, z], 2))"
   ]
  },
  {
   "cell_type": "markdown",
   "metadata": {},
   "source": [
    "---\n",
    "\n",
    "***`Consider the following code:`***\n",
    "\n",
    "---"
   ]
  },
  {
   "cell_type": "code",
   "execution_count": 3,
   "metadata": {},
   "outputs": [],
   "source": [
    "import pickle\n",
    "\n",
    "names = [ \"Aravind\", \"Lakshay\", \"Akansha\", \"Aniruddha\", 'Anusha']\n",
    "student_marks = { \"Aravind\"  : 42,\n",
    "                   \"Lakshay\"  : 50,\n",
    "                   \"Akansha\"  : 94,\n",
    "                   \"Aniruddha\": 70,\n",
    "                   \"Anusha\"   : 78}"
   ]
  },
  {
   "cell_type": "markdown",
   "metadata": {},
   "source": [
    "---\n",
    "\n",
    "***Create a `pickle` file of both the collections `names`, `student_marks` and then read the pickle files.***\n",
    "\n",
    "----"
   ]
  },
  {
   "cell_type": "code",
   "execution_count": 17,
   "metadata": {},
   "outputs": [],
   "source": [
    "# creating folder 'data' if not already exists\n",
    "folder = 'data'\n",
    "\n",
    "if not os.path.exists(folder):\n",
    "    os.mkdir(folder)"
   ]
  },
  {
   "cell_type": "code",
   "execution_count": 18,
   "metadata": {},
   "outputs": [],
   "source": [
    "# dumping names and student_marks into name and marks pickle files \n",
    "files = {'name': names,\n",
    "        'marks': student_marks}\n",
    "for file in files:\n",
    "    with open(os.path.join(folder, '{}.pickle'.format(file)), 'wb') as f:\n",
    "        pickle.dump(files[file], f)"
   ]
  },
  {
   "cell_type": "code",
   "execution_count": 19,
   "metadata": {},
   "outputs": [],
   "source": [
    "# reading from the both the pickle files\n",
    "data_read = {}\n",
    "for file in files:\n",
    "    with open(os.path.join(folder, '{}.pickle'.format(file)), 'rb') as f:\n",
    "        data_read[file] = pickle.load(f)"
   ]
  },
  {
   "cell_type": "code",
   "execution_count": 20,
   "metadata": {},
   "outputs": [],
   "source": [
    "# unpacking data from the data_read dictionary\n",
    "names_read = data_read['name']\n",
    "student_marks_read = data_read['marks']"
   ]
  },
  {
   "cell_type": "code",
   "execution_count": 21,
   "metadata": {},
   "outputs": [
    {
     "data": {
      "text/plain": [
       "['Aravind', 'Lakshay', 'Akansha', 'Aniruddha', 'Anusha']"
      ]
     },
     "execution_count": 21,
     "metadata": {},
     "output_type": "execute_result"
    }
   ],
   "source": [
    "names_read"
   ]
  },
  {
   "cell_type": "code",
   "execution_count": 22,
   "metadata": {},
   "outputs": [
    {
     "data": {
      "text/plain": [
       "{'Aravind': 42, 'Lakshay': 50, 'Akansha': 94, 'Aniruddha': 70, 'Anusha': 78}"
      ]
     },
     "execution_count": 22,
     "metadata": {},
     "output_type": "execute_result"
    }
   ],
   "source": [
    "student_marks_read"
   ]
  },
  {
   "cell_type": "code",
   "execution_count": 23,
   "metadata": {},
   "outputs": [
    {
     "data": {
      "text/plain": [
       "True"
      ]
     },
     "execution_count": 23,
     "metadata": {},
     "output_type": "execute_result"
    }
   ],
   "source": [
    "names_read == names and student_marks_read == student_marks"
   ]
  },
  {
   "cell_type": "markdown",
   "metadata": {},
   "source": [
    "---\n",
    "\n",
    "***Write down the difference between the `Dictionary` & `Ordered Dictionary`.***\n",
    "\n",
    "---"
   ]
  },
  {
   "cell_type": "markdown",
   "metadata": {},
   "source": [
    "<table style=\"width:100%\">\n",
    "  <tr>\n",
    "    <th>Ordered Dictionary</th>\n",
    "    <th>Dictionary</th>\n",
    "  </tr>\n",
    "  <tr>\n",
    "    <td>Python default dictionary contains a default factory</td>\n",
    "    <td>Python dictionary does not contain a default factory</td>\n",
    "  </tr>\n",
    "    <tr>\n",
    "    <td>Python default dictionary returns the default value of the value's datatype when a value not present in the dictionary is accessed</td>\n",
    "    <td>Python dictionary returns a key error when a value not present in the dictionary is accessed</td>\n",
    "    </tr>\n",
    "</table>"
   ]
  },
  {
   "cell_type": "code",
   "execution_count": null,
   "metadata": {},
   "outputs": [],
   "source": []
  }
 ],
 "metadata": {
  "kernelspec": {
   "display_name": "Python 3",
   "language": "python",
   "name": "python3"
  },
  "language_info": {
   "codemirror_mode": {
    "name": "ipython",
    "version": 3
   },
   "file_extension": ".py",
   "mimetype": "text/x-python",
   "name": "python",
   "nbconvert_exporter": "python",
   "pygments_lexer": "ipython3",
   "version": "3.8.5"
  }
 },
 "nbformat": 4,
 "nbformat_minor": 2
}
